{
 "cells": [
  {
   "cell_type": "code",
   "execution_count": 14,
   "metadata": {
    "collapsed": true
   },
   "outputs": [],
   "source": [
    "# import matplotlib.image as mpimg\n",
    "# import classes\n",
    "import pandas as pd\n",
    "import numpy as np\n",
    "# from tkinter import Tk\n",
    "# from tkinter.filedialog import askopenfilename\n",
    "# import numpy as np\n",
    "# from scipy.interpolate import interp1d\n",
    "# from matplotlib import pyplot as plt\n",
    "# imp_class = classes.import_files()\n",
    "# data_cell_voltage = imp_class.engauge_file()"
   ]
  },
  {
   "cell_type": "code",
   "execution_count": 15,
   "outputs": [],
   "source": [
    "file1 = 'test.csv'\n",
    "data_cell_voltage = pd.read_csv(file1)"
   ],
   "metadata": {
    "collapsed": false,
    "pycharm": {
     "name": "#%%\n"
    }
   }
  },
  {
   "cell_type": "code",
   "execution_count": 16,
   "outputs": [
    {
     "data": {
      "text/plain": "       x       20       30       40       50       60       70\n0  10.64  1.59312  1.56887  1.54463  1.52240  1.50018  1.47998\n1  10.65  1.59313  1.56888  1.54464  1.52241  1.50019  1.47999\n2  10.66  1.59315  1.56890  1.54465  1.52242  1.50020  1.48000\n3  10.67  1.59316  1.56891  1.54466  1.52244  1.50021  1.48001\n4  10.68  1.59318  1.56892  1.54467  1.52245  1.50022  1.48002",
      "text/html": "<div>\n<style scoped>\n    .dataframe tbody tr th:only-of-type {\n        vertical-align: middle;\n    }\n\n    .dataframe tbody tr th {\n        vertical-align: top;\n    }\n\n    .dataframe thead th {\n        text-align: right;\n    }\n</style>\n<table border=\"1\" class=\"dataframe\">\n  <thead>\n    <tr style=\"text-align: right;\">\n      <th></th>\n      <th>x</th>\n      <th>20</th>\n      <th>30</th>\n      <th>40</th>\n      <th>50</th>\n      <th>60</th>\n      <th>70</th>\n    </tr>\n  </thead>\n  <tbody>\n    <tr>\n      <th>0</th>\n      <td>10.64</td>\n      <td>1.59312</td>\n      <td>1.56887</td>\n      <td>1.54463</td>\n      <td>1.52240</td>\n      <td>1.50018</td>\n      <td>1.47998</td>\n    </tr>\n    <tr>\n      <th>1</th>\n      <td>10.65</td>\n      <td>1.59313</td>\n      <td>1.56888</td>\n      <td>1.54464</td>\n      <td>1.52241</td>\n      <td>1.50019</td>\n      <td>1.47999</td>\n    </tr>\n    <tr>\n      <th>2</th>\n      <td>10.66</td>\n      <td>1.59315</td>\n      <td>1.56890</td>\n      <td>1.54465</td>\n      <td>1.52242</td>\n      <td>1.50020</td>\n      <td>1.48000</td>\n    </tr>\n    <tr>\n      <th>3</th>\n      <td>10.67</td>\n      <td>1.59316</td>\n      <td>1.56891</td>\n      <td>1.54466</td>\n      <td>1.52244</td>\n      <td>1.50021</td>\n      <td>1.48001</td>\n    </tr>\n    <tr>\n      <th>4</th>\n      <td>10.68</td>\n      <td>1.59318</td>\n      <td>1.56892</td>\n      <td>1.54467</td>\n      <td>1.52245</td>\n      <td>1.50022</td>\n      <td>1.48002</td>\n    </tr>\n  </tbody>\n</table>\n</div>"
     },
     "execution_count": 16,
     "metadata": {},
     "output_type": "execute_result"
    }
   ],
   "source": [
    "data_cell_voltage.head()\n"
   ],
   "metadata": {
    "collapsed": false,
    "pycharm": {
     "name": "#%%\n"
    }
   }
  },
  {
   "cell_type": "code",
   "execution_count": 17,
   "outputs": [],
   "source": [
    "x = 700\n",
    "temp = 25"
   ],
   "metadata": {
    "collapsed": false,
    "pycharm": {
     "name": "#%%\n"
    }
   }
  },
  {
   "cell_type": "code",
   "execution_count": 18,
   "outputs": [],
   "source": [
    "xs = data_cell_voltage['x'].values.astype(float)"
   ],
   "metadata": {
    "collapsed": false,
    "pycharm": {
     "name": "#%%\n"
    }
   }
  },
  {
   "cell_type": "code",
   "execution_count": 19,
   "outputs": [
    {
     "data": {
      "text/plain": "array([  10.64,   10.65,   10.66,   10.67,   10.68,   10.69,   53.53,\n         57.83,   62.13,   62.14,   66.45,   70.75,  126.46,  130.76,\n        135.07,  139.37,  147.96,  152.26,  212.27,  216.57,  220.88,\n        229.47,  238.06,  246.66,  298.08,  306.67,  315.27,  323.86,\n        332.46,  341.05,  388.18,  401.07,  409.66,  422.55,  431.14,\n        439.74,  478.28,  495.46,  508.35,  521.23,  529.83,  538.42,\n        572.67,  589.85,  602.74,  615.63,  628.52,  641.4 ,  662.77,\n        684.25,  701.43,  718.61,  727.2 ,  740.09,  757.17,  782.93,\n        800.11,  817.29,  830.18,  838.78,  851.56,  877.33,  898.8 ,\n        915.98,  928.87,  941.76,  945.95,  976.01,  997.49, 1014.67,\n       1031.85, 1040.35, 1044.74, 1070.41, 1096.17, 1113.35, 1130.54,\n       1134.74, 1143.43, 1169.09, 1194.86, 1216.33, 1229.13, 1229.22,\n       1246.41, 1267.78, 1293.55, 1315.02, 1323.53, 1332.2 , 1349.38,\n       1362.17, 1392.23, 1413.71, 1422.21, 1435.18, 1448.07, 1460.86,\n       1490.92, 1516.6 , 1516.69, 1533.87, 1551.05, 1559.54, 1589.61,\n       1611.  , 1615.37, 1636.85, 1654.03, 1658.23, 1692.58, 1705.39,\n       1718.35, 1735.54, 1752.62, 1752.72, 1791.27, 1799.79, 1817.04,\n       1838.52, 1851.31, 1855.7 , 1889.96, 1898.47, 1915.73, 1941.5 ,\n       1950.  , 1958.68, 1988.64, 1992.86, 2018.71, 2040.19, 2048.68,\n       2061.66, 2087.26, 2087.33, 2117.4 , 2143.16, 2147.37, 2160.35,\n       2181.65, 2190.31, 2220.37, 2241.85, 2246.05, 2263.33, 2280.34,\n       2289.  , 2319.06, 2340.45, 2344.83, 2366.31, 2374.73, 2387.68,\n       2422.04, 2439.14, 2443.52, 2465.  , 2469.12, 2486.37, 2516.44,\n       2537.82, 2537.92, 2559.4 , 2567.81, 2589.35, 2615.13, 2636.51,\n       2636.61, 2658.09, 2662.2 , 2679.45, 2709.52, 2735.19, 2735.3 ,\n       2756.6 , 2756.78, 2778.14, 2808.21, 2829.59, 2829.69, 2850.99,\n       2855.47, 2872.54, 2902.61, 2923.98, 2928.38, 2941.1 , 2954.16,\n       2966.93, 3001.3 ])"
     },
     "execution_count": 19,
     "metadata": {},
     "output_type": "execute_result"
    }
   ],
   "source": [
    "xs"
   ],
   "metadata": {
    "collapsed": false,
    "pycharm": {
     "name": "#%%\n"
    }
   }
  },
  {
   "cell_type": "code",
   "execution_count": 21,
   "outputs": [],
   "source": [
    "if (x > min(xs) and x < max(xs)):\n",
    "\n",
    "x_right = np.searchsorted(xs, x, side='right')\n",
    "\n",
    "if (x < min(xs)):\n",
    "    x_left = 0\n",
    "    x_right = 1 "
   ],
   "metadata": {
    "collapsed": false,
    "pycharm": {
     "name": "#%%\n"
    }
   }
  },
  {
   "cell_type": "code",
   "execution_count": 26,
   "outputs": [
    {
     "data": {
      "text/plain": "(49, 50)"
     },
     "execution_count": 26,
     "metadata": {},
     "output_type": "execute_result"
    }
   ],
   "source": [
    "x_left = x_right-1\n",
    "x_left, x_right"
   ],
   "metadata": {
    "collapsed": false,
    "pycharm": {
     "name": "#%%\n"
    }
   }
  },
  {
   "cell_type": "code",
   "execution_count": 27,
   "outputs": [
    {
     "data": {
      "text/plain": "(684.25, 701.43)"
     },
     "execution_count": 27,
     "metadata": {},
     "output_type": "execute_result"
    }
   ],
   "source": [
    "xs[x_left], xs[x_right]"
   ],
   "metadata": {
    "collapsed": false,
    "pycharm": {
     "name": "#%%\n"
    }
   }
  },
  {
   "cell_type": "code",
   "execution_count": 31,
   "outputs": [],
   "source": [
    "left_row = data_cell_voltage.loc[x_left]\n",
    "right_row = data_cell_voltage.loc[x_right]"
   ],
   "metadata": {
    "collapsed": false,
    "pycharm": {
     "name": "#%%\n"
    }
   }
  },
  {
   "cell_type": "code",
   "execution_count": 32,
   "outputs": [
    {
     "data": {
      "text/plain": "(x     684.25000\n 20      1.84503\n 30      1.80319\n 40      1.76306\n 50      1.72800\n 60      1.69457\n 70      1.66350\n Name: 49, dtype: float64,\n x     701.43000\n 20      1.84938\n 30      1.80723\n 40      1.76684\n 50      1.73128\n 60      1.69773\n 70      1.66676\n Name: 50, dtype: float64)"
     },
     "execution_count": 32,
     "metadata": {},
     "output_type": "execute_result"
    }
   ],
   "source": [
    "left_row, right_row"
   ],
   "metadata": {
    "collapsed": false,
    "pycharm": {
     "name": "#%%\n"
    }
   }
  },
  {
   "cell_type": "code",
   "execution_count": null,
   "outputs": [],
   "source": [
    "# yp = y0 + ((y1-y0)/(x1-x0)) * (xp - x0)\n",
    "# y(x)  =  y1  +  (x - x1)  \\frac{(y2 - y1) }{ (x2 - x1)}"
   ],
   "metadata": {
    "collapsed": false,
    "pycharm": {
     "name": "#%%\n"
    }
   }
  },
  {
   "cell_type": "code",
   "execution_count": 41,
   "outputs": [],
   "source": [
    "y = left_row + ((right_row-left_row)/(xs[x_right]-xs[x_left])) * (x - xs[x_left])\n"
   ],
   "metadata": {
    "collapsed": false,
    "pycharm": {
     "name": "#%%\n"
    }
   }
  },
  {
   "cell_type": "code",
   "execution_count": 42,
   "outputs": [],
   "source": [
    "y[0] = x"
   ],
   "metadata": {
    "collapsed": false,
    "pycharm": {
     "name": "#%%\n"
    }
   }
  },
  {
   "cell_type": "code",
   "execution_count": 43,
   "outputs": [
    {
     "data": {
      "text/plain": "x     700.000000\n20      1.849018\n30      1.806894\n40      1.766525\n50      1.731007\n60      1.697467\n70      1.666489\ndtype: float64"
     },
     "execution_count": 43,
     "metadata": {},
     "output_type": "execute_result"
    }
   ],
   "source": [
    "y\n"
   ],
   "metadata": {
    "collapsed": false,
    "pycharm": {
     "name": "#%%\n"
    }
   }
  },
  {
   "cell_type": "code",
   "execution_count": 52,
   "outputs": [],
   "source": [
    "temps = data_cell_voltage.columns.values[1:].astype(float)"
   ],
   "metadata": {
    "collapsed": false,
    "pycharm": {
     "name": "#%%\n"
    }
   }
  },
  {
   "cell_type": "code",
   "execution_count": 55,
   "outputs": [],
   "source": [
    "temp_right = np.searchsorted(temps, temp, side='right')\n",
    "temp_left = temp_right-1"
   ],
   "metadata": {
    "collapsed": false,
    "pycharm": {
     "name": "#%%\n"
    }
   }
  },
  {
   "cell_type": "code",
   "execution_count": 56,
   "outputs": [
    {
     "data": {
      "text/plain": "(0, 1)"
     },
     "execution_count": 56,
     "metadata": {},
     "output_type": "execute_result"
    }
   ],
   "source": [
    "temp_left, temp_right"
   ],
   "metadata": {
    "collapsed": false,
    "pycharm": {
     "name": "#%%\n"
    }
   }
  },
  {
   "cell_type": "code",
   "execution_count": 59,
   "outputs": [],
   "source": [
    "temp_left_row = temps[temp_left]\n",
    "temp_right_row = temps[temp_right]"
   ],
   "metadata": {
    "collapsed": false,
    "pycharm": {
     "name": "#%%\n"
    }
   }
  },
  {
   "cell_type": "code",
   "execution_count": 60,
   "outputs": [
    {
     "data": {
      "text/plain": "(20.0, 30.0)"
     },
     "execution_count": 60,
     "metadata": {},
     "output_type": "execute_result"
    }
   ],
   "source": [
    "temp_left_row, temp_right_row"
   ],
   "metadata": {
    "collapsed": false,
    "pycharm": {
     "name": "#%%\n"
    }
   }
  },
  {
   "cell_type": "code",
   "execution_count": 65,
   "outputs": [],
   "source": [
    "y1 = y[temp_left+1]\n",
    "y2 = y[temp_right+1]"
   ],
   "metadata": {
    "collapsed": false,
    "pycharm": {
     "name": "#%%\n"
    }
   }
  },
  {
   "cell_type": "code",
   "execution_count": 66,
   "outputs": [],
   "source": [
    "correct_y  =  y1+ (temp - temp_left_row)  * ((y2 - y1)/(temp_right_row - temp_left_row))"
   ],
   "metadata": {
    "collapsed": false,
    "pycharm": {
     "name": "#%%\n"
    }
   }
  },
  {
   "cell_type": "code",
   "execution_count": 67,
   "outputs": [
    {
     "data": {
      "text/plain": "1.8279558236321303"
     },
     "execution_count": 67,
     "metadata": {},
     "output_type": "execute_result"
    }
   ],
   "source": [
    "correct_y\n"
   ],
   "metadata": {
    "collapsed": false,
    "pycharm": {
     "name": "#%%\n"
    }
   }
  },
  {
   "cell_type": "code",
   "execution_count": null,
   "outputs": [],
   "source": [
    "# interpolate_X = 55\n",
    "# Y20_interp = interp1d(X, Y20)\n",
    "# print(\"Value of Cell Voltage at X =  is\".format(interpolate_X), Y20_interp(interpolate_X))\n",
    "# data_power = imp_class.engauge_file()\n",
    "# print(data_power)"
   ],
   "metadata": {
    "collapsed": false,
    "pycharm": {
     "name": "#%%\n"
    }
   }
  },
  {
   "cell_type": "code",
   "execution_count": null,
   "outputs": [],
   "source": [
    "class stack:\n",
    "\n",
    "class containerA stack:\n",
    "class containerA stack:\n",
    "class containerA stack:\n",
    "class containerA stack:\n",
    "    \n",
    "\n",
    "dictname.add(key, value)\n",
    "\n",
    "main()\n",
    "\n",
    "load_dict()\n",
    "X = metadata['containerA'].keys() \n",
    "\n",
    "def fun(param):\n",
    "    x = param['x']\n",
    "    y = param['y']\n",
    "\n",
    "metadata = \n",
    "{\n",
    "    'containerA' : {\n",
    "        1 :\n",
    "        {\n",
    "            cathod: 30\n",
    "            anode: 100\n",
    "            graph_path: \"\"\n",
    "            csv_path: \"\"\n",
    "        }\n",
    "        2 : \n",
    "        {\n",
    "            cathod: 30\n",
    "            anode: 100\n",
    "        }\n",
    "        3 :\n",
    "        {\n",
    "            cathod: 30\n",
    "            anode: 110\n",
    "            graph_path: \"\"\n",
    "            csv_path: \"\"\n",
    "        }\n",
    "    }\n",
    "}\n",
    "\n",
    "{\n",
    "    class_1:\n",
    "        ver : 1,\n",
    "        {\n",
    "            anode: 50,\n",
    "            cathod: 100\n",
    "        }\n",
    "    \n",
    "    cl..\n",
    "    \n",
    "}\n",
    "\n",
    "pickle \n",
    "\n"
   ],
   "metadata": {
    "collapsed": false,
    "pycharm": {
     "name": "#%%\n"
    }
   }
  }
 ],
 "metadata": {
  "kernelspec": {
   "display_name": "Python 3",
   "language": "python",
   "name": "python3"
  },
  "language_info": {
   "codemirror_mode": {
    "name": "ipython",
    "version": 2
   },
   "file_extension": ".py",
   "mimetype": "text/x-python",
   "name": "python",
   "nbconvert_exporter": "python",
   "pygments_lexer": "ipython2",
   "version": "2.7.6"
  }
 },
 "nbformat": 4,
 "nbformat_minor": 0
}